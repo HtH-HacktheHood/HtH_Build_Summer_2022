{
 "cells": [
  {
   "cell_type": "code",
   "execution_count": 1,
   "id": "e349e10f",
   "metadata": {},
   "outputs": [],
   "source": [
    "import pandas\n",
    "\n",
    "# Step 1: Use the appropriate pandas method to read the titanic data into your python file \n",
    "titanic_data = pandas.read_csv(\"titanic.csv\")\n",
    "\n",
    "# Step 2(a): Use the pandas method that reads the first 25 lines of the dataset\n",
    "first_25_passengers = titanic_data.head(25)\n",
    "\n",
    "# Step 2(b): Use the pandas method thats reads the last 25 lines of the dataset\n",
    "last_25_passengers = titanic_data.tail(25)\n",
    "\n",
    "# Step 3: Use the pandas method that only tells us the number of rows and columns in our data\n",
    "titanic_shape = titanic_data.shape\n",
    "\n",
    "# Step 4: Describe the titanic data\n",
    "titanic_description = titanic_data.describe()\n",
    "\n",
    "# Step 5(a): How many passengers were between the ages of 0 to 16? \n",
    "children = len( titanic_data[ titanic_data[\"Age\"] <= 16 ])\n",
    "\n",
    "# Step 5(b): How many passengers were between the ages of 17 to 25?\n",
    "young_adults = len( titanic_data[ (titanic_data[\"Age\"] > 16) & (titanic_data[\"Age\"] <= 25) ])\n",
    "\n",
    "# Step 5(c): How many passengers were between the ages of 26 to 40?\n",
    "adults = len( titanic_data[ (titanic_data[\"Age\"] > 25) & (titanic_data[\"Age\"] <= 40) ])\n",
    "\n",
    "# Step 5(d): How many passengers were between the ages of 41 to 59?\n",
    "mature_adults = len( titanic_data[ (titanic_data[\"Age\"] > 40) & (titanic_data[\"Age\"] <= 59) ])\n",
    "\n",
    "# Step 5(e): How many passengers were 60 or older?\n",
    "seniors = len( titanic_data[ titanic_data[\"Age\"] >= 60 ])\n",
    "\n",
    "# Step 6: How many values are missing from the \"age\" column\n",
    "missing_ages = titanic_data['Age'].isna().sum()\n",
    "\n",
    "# Step 7: List out all the available passengers' ages\n",
    "age_list = list( titanic_data[\"Age\"].unique() )\n",
    "\n",
    "# Step 8: Filter the DataFrame to find all passengers who boarded the Titanic at Port Cherbourg\n",
    "cherbourg_passengers = titanic_data[ titanic_data['Embarked'] == 'C' ]\n",
    "\n",
    "# Step 9(a): Find the average age of all female passengers\n",
    "females = titanic_data[ titanic_data[\"Sex\"] == \"female\"]\n",
    "avg_fem_age = females[\"Age\"].mean()\n",
    "\n",
    "# Step 9(b): Find the average age of all male passengers\n",
    "males = titanic_data[ titanic_data[\"Sex\"] == \"male\"]\n",
    "avg_male_age = males[\"Age\"].mean()\n",
    "\n",
    "# Step 10(a): Find the survival percentage of passengers in group \"C\"\n",
    "cherbourg_survival = len( cherbourg_passengers[ cherbourg_passengers[\"Survived\"] == 1 ] ) / len( cherbourg_passengers )\n",
    "\n",
    "# Step 10(b): Find the survival percentage of passengers in group \"Q\"\n",
    "queenstown_passengers = titanic_data[ titanic_data['Embarked'] == 'Q' ]\n",
    "queenstown_survival = len( queenstown_passengers[ queenstown_passengers[\"Survived\"] == 1 ] ) / len( queenstown_passengers )\n",
    "\n",
    "# Step 10(c): Find the survival percentage of passengers in group \"S\"\n",
    "south_passengers = titanic_data[ titanic_data['Embarked'] == 'S' ]\n",
    "south_survival = len( south_passengers[ south_passengers[\"Survived\"] == 1 ] ) / len( south_passengers )"
   ]
  },
  {
   "cell_type": "code",
   "execution_count": 28,
   "id": "b86bead2",
   "metadata": {},
   "outputs": [
    {
     "data": {
      "text/plain": [
       "PassengerId    0\n",
       "Survived       0\n",
       "Pclass         0\n",
       "Name           0\n",
       "Sex            0\n",
       "Age            0\n",
       "SibSp          0\n",
       "Parch          0\n",
       "Ticket         0\n",
       "Fare           0\n",
       "Cabin          0\n",
       "Embarked       0\n",
       "dtype: int64"
      ]
     },
     "execution_count": 28,
     "metadata": {},
     "output_type": "execute_result"
    }
   ],
   "source": [
    "clean_titanic = titanic_data.dropna()"
   ]
  },
  {
   "cell_type": "code",
   "execution_count": null,
   "id": "b26715ee",
   "metadata": {},
   "outputs": [],
   "source": []
  }
 ],
 "metadata": {
  "kernelspec": {
   "display_name": "Python 3 (ipykernel)",
   "language": "python",
   "name": "python3"
  },
  "language_info": {
   "codemirror_mode": {
    "name": "ipython",
    "version": 3
   },
   "file_extension": ".py",
   "mimetype": "text/x-python",
   "name": "python",
   "nbconvert_exporter": "python",
   "pygments_lexer": "ipython3",
   "version": "3.9.6"
  }
 },
 "nbformat": 4,
 "nbformat_minor": 5
}
