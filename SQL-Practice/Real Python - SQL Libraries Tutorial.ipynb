{
 "cells": [
  {
   "cell_type": "code",
   "execution_count": 1,
   "id": "4762fe63",
   "metadata": {
    "scrolled": true
   },
   "outputs": [],
   "source": [
    "# This cell is for any necessary imports or pre-logic library setting changes\n",
    "\n",
    "import sqlite3"
   ]
  },
  {
   "cell_type": "code",
   "execution_count": 2,
   "id": "41f80cb1",
   "metadata": {},
   "outputs": [
    {
     "name": "stdout",
     "output_type": "stream",
     "text": [
      "Connection to SQLite DB successful\n",
      "Query executed successfully\n",
      "Query executed successfully\n",
      "Query executed successfully\n",
      "Query executed successfully\n",
      "Query executed successfully\n"
     ]
    }
   ],
   "source": [
    "# Setting up SQLite connections and queries\n",
    "\n",
    "def create_connection_lite(path):\n",
    "    connection = None\n",
    "    try:\n",
    "        connection = sqlite3.connect(path)\n",
    "        print(\"Connection to SQLite DB successful\")\n",
    "    except sqlite3.Error as e:\n",
    "        print(f\"The error '{e}' occurred\")\n",
    "\n",
    "    return connection\n",
    "\n",
    "def execute_query(connection, query):\n",
    "    cursor = connection.cursor()\n",
    "    try:\n",
    "        cursor.execute(query)\n",
    "        connection.commit()\n",
    "        print(\"Query executed successfully\")\n",
    "    except sqlite3.Error as e:\n",
    "        print(f\"The error '{e}' occurred\")\n",
    "        \n",
    "def execute_read_query(connection, query):\n",
    "    cursor = connection.cursor()\n",
    "    result = None\n",
    "    try:\n",
    "        cursor.execute(query)\n",
    "        result = cursor.fetchall()\n",
    "        return result\n",
    "    except Error as e:\n",
    "        print(f\"The error '{e}' occurred\")\n",
    "\n",
    "lite_connection = create_connection_lite(\"E:\\\\sm_app.sqlite\")\n",
    "\n",
    "create_users_table_query = \"\"\"\n",
    "CREATE TABLE IF NOT EXISTS users (\n",
    "  id INTEGER PRIMARY KEY AUTOINCREMENT,\n",
    "  name TEXT NOT NULL,\n",
    "  age INTEGER,\n",
    "  gender TEXT,\n",
    "  nationality TEXT\n",
    ");\n",
    "\"\"\"\n",
    "\n",
    "create_posts_table_query = \"\"\"\n",
    "CREATE TABLE IF NOT EXISTS posts(\n",
    "  id INTEGER PRIMARY KEY AUTOINCREMENT, \n",
    "  title TEXT NOT NULL, \n",
    "  description TEXT NOT NULL, \n",
    "  user_id INTEGER NOT NULL, \n",
    "  FOREIGN KEY (user_id) REFERENCES users (id)\n",
    ");\n",
    "\"\"\"\n",
    "\n",
    "create_comments_table_query = \"\"\"\n",
    "CREATE TABLE IF NOT EXISTS comments (\n",
    "    id INTEGER PRIMARY KEY AUTOINCREMENT,\n",
    "    text TEXT NOT NULL,\n",
    "    user_id INTEGER NOT NULL,\n",
    "    post_id INTEGER NOT NULL,\n",
    "    FOREIGN KEY (user_id) REFERENCES users (id) FOREIGN KEY (post_id) REFERENCES posts (id)\n",
    ");\n",
    "\"\"\"\n",
    "\n",
    "create_likes_table_query = \"\"\"\n",
    "CREATE TABLE IF NOT EXISTS likes (\n",
    "  id INTEGER PRIMARY KEY AUTOINCREMENT, \n",
    "  user_id INTEGER NOT NULL, \n",
    "  post_id integer NOT NULL, \n",
    "  FOREIGN KEY (user_id) REFERENCES users (id) FOREIGN KEY (post_id) REFERENCES posts (id)\n",
    ");\n",
    "\"\"\"\n",
    "\n",
    "create_users_query = \"\"\"\n",
    "INSERT INTO\n",
    "  users (name, age, gender, nationality)\n",
    "VALUES\n",
    "  ('James', 25, 'male', 'USA'),\n",
    "  ('Leila', 32, 'female', 'France'),\n",
    "  ('Brigitte', 35, 'female', 'England'),\n",
    "  ('Mike', 40, 'male', 'Denmark'),\n",
    "  ('Elizabeth', 21, 'female', 'Canada');\n",
    "\"\"\"\n",
    "\n",
    "create_posts_query = \"\"\"\n",
    "INSERT INTO\n",
    "  posts (title, description, user_id)\n",
    "VALUES\n",
    "  (\"Happy\", \"I am feeling very happy today\", 1),\n",
    "  (\"Hot Weather\", \"The weather is very hot today\", 2),\n",
    "  (\"Help\", \"I need some help with my work\", 2),\n",
    "  (\"Great News\", \"I am getting married\", 1),\n",
    "  (\"Interesting Game\", \"It was a fantastic game of tennis\", 5),\n",
    "  (\"Party\", \"Anyone up for a late-night party today?\", 3);\n",
    "\"\"\"\n",
    "\n",
    "execute_query(lite_connection, create_users_table_query)\n",
    "execute_query(lite_connection, create_posts_table_query)\n",
    "execute_query(lite_connection, create_comments_table_query)\n",
    "execute_query(lite_connection, create_likes_table_query)\n",
    "# execute_query(lite_connection, create_users_query) \n",
    "execute_query(lite_connection, create_posts_query)"
   ]
  },
  {
   "cell_type": "code",
   "execution_count": 4,
   "id": "0e3f53f6",
   "metadata": {},
   "outputs": [
    {
     "name": "stdout",
     "output_type": "stream",
     "text": [
      "(1, 'Happy', 'I am feeling very happy today', 1)\n",
      "(2, 'Hot Weather', 'The weather is very hot today', 2)\n",
      "(3, 'Help', 'I need some help with my work', 2)\n",
      "(4, 'Great News', 'I am getting married', 1)\n",
      "(5, 'Interesting Game', 'It was a fantastic game of tennis', 5)\n",
      "(6, 'Party', 'Anyone up for a late-night party today?', 3)\n",
      "(7, 'Happy', 'I am feeling very happy today', 1)\n",
      "(8, 'Hot Weather', 'The weather is very hot today', 2)\n",
      "(9, 'Help', 'I need some help with my work', 2)\n",
      "(10, 'Great News', 'I am getting married', 1)\n",
      "(11, 'Interesting Game', 'It was a fantastic game of tennis', 5)\n",
      "(12, 'Party', 'Anyone up for a late-night party today?', 3)\n"
     ]
    }
   ],
   "source": [
    "# Reading SQLite records\n",
    "\n",
    "select_posts = \"SELECT * from posts\"\n",
    "posts = execute_read_query(lite_connection, select_posts)\n",
    "\n",
    "for post in posts:\n",
    "     print(post)\n"
   ]
  },
  {
   "cell_type": "code",
   "execution_count": null,
   "id": "053cb57e",
   "metadata": {},
   "outputs": [],
   "source": []
  }
 ],
 "metadata": {
  "kernelspec": {
   "display_name": "Python 3 (ipykernel)",
   "language": "python",
   "name": "python3"
  },
  "language_info": {
   "codemirror_mode": {
    "name": "ipython",
    "version": 3
   },
   "file_extension": ".py",
   "mimetype": "text/x-python",
   "name": "python",
   "nbconvert_exporter": "python",
   "pygments_lexer": "ipython3",
   "version": "3.9.6"
  },
  "vscode": {
   "interpreter": {
    "hash": "aee8b7b246df8f9039afb4144a1f6fd8d2ca17a180786b69acc140d282b71a49"
   }
  }
 },
 "nbformat": 4,
 "nbformat_minor": 5
}
